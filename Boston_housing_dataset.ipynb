{
  "nbformat": 4,
  "nbformat_minor": 0,
  "metadata": {
    "colab": {
      "name": "Statistics for Data Science with Python.ipynb",
      "provenance": [],
      "authorship_tag": "ABX9TyO1qiJPyhOWA/niIBOMcMKV",
      "include_colab_link": true
    },
    "kernelspec": {
      "name": "python3",
      "display_name": "Python 3"
    },
    "language_info": {
      "name": "python"
    }
  },
  "cells": [
    {
      "cell_type": "markdown",
      "metadata": {
        "id": "view-in-github",
        "colab_type": "text"
      },
      "source": [
        "<a href=\"https://colab.research.google.com/github/giocondo91/data_science_python/blob/main/Boston_housing_dataset.ipynb\" target=\"_parent\"><img src=\"https://colab.research.google.com/assets/colab-badge.svg\" alt=\"Open In Colab\"/></a>"
      ]
    },
    {
      "cell_type": "markdown",
      "source": [
        "# **Statistics for Data Science with Python**\n",
        "**Jose Guilherme Giocondo**\n",
        "\n",
        "'The Boston housing Dataset'"
      ],
      "metadata": {
        "id": "58--ekPDuUiJ"
      }
    },
    {
      "cell_type": "markdown",
      "source": [
        "```The following describes the dataset variables:```\n",
        "\n",
        "```CRIM``` per capita crime rate by town\n",
        "\n",
        "```ZN```  proportion of residential land zoned for lots over 25,000 sq.ft.\n",
        "\n",
        "```INDUS``` proportion of non-retail business acres per town.\n",
        "\n",
        "```CHAS``` Charles River dummy variable (1 if tract bounds river; 0 otherwise)\n",
        "\n",
        "```NOX ``` nitric oxides concentration (parts per 10 million)\n",
        "\n",
        "```RM``` average number of rooms per dwelling\n",
        "\n",
        "```AG```  proportion of owner-occupied units built prior to 1940\n",
        "\n",
        "```DI```  weighted distances to five Boston employment centres\n",
        "\n",
        "```RA```  index of accessibility to radial highways\n",
        "\n",
        "```TA```  full-value property-tax rate per $10,000\n",
        "\n",
        "```PTRATIO```  pupil-teacher ratio by town\n",
        "\n",
        "```LS```  % lower status of the population\n",
        "\n",
        "```MEDV``` Median value of owner-occupied homes in $10's "
      ],
      "metadata": {
        "id": "EhKlQXVPvFaR"
      }
    },
    {
      "cell_type": "code",
      "source": [
        "import scipy.stats\n",
        "import pandas as pd\n",
        "import seaborn as sns\n",
        "import statsmodels.api as sm\n",
        "import matplotlib.pyplot as plt\n",
        "from sklearn.linear_model import LinearRegression"
      ],
      "metadata": {
        "colab": {
          "base_uri": "https://localhost:8080/"
        },
        "id": "E9NAfGoZu1LR",
        "outputId": "66b0eda9-f6e4-4a85-c045-539404ef95cb"
      },
      "execution_count": 16,
      "outputs": [
        {
          "output_type": "stream",
          "name": "stderr",
          "text": [
            "/usr/local/lib/python3.7/dist-packages/statsmodels/tools/_testing.py:19: FutureWarning: pandas.util.testing is deprecated. Use the functions in the public API at pandas.testing instead.\n",
            "  import pandas.util.testing as tm\n"
          ]
        }
      ]
    },
    {
      "cell_type": "code",
      "execution_count": 3,
      "metadata": {
        "id": "5shhrc3EuQ1M"
      },
      "outputs": [],
      "source": [
        "boston_url = 'https://cf-courses-data.s3.us.cloud-object-storage.appdomain.cloud/IBMDeveloperSkillsNetwork-ST0151EN-SkillsNetwork/labs/boston_housing.csv'\n",
        "boston_df=pd.read_csv(boston_url)"
      ]
    },
    {
      "cell_type": "code",
      "source": [
        "# let's take a look into our data\n",
        "boston_df.head(5)"
      ],
      "metadata": {
        "colab": {
          "base_uri": "https://localhost:8080/",
          "height": 206
        },
        "id": "V3ZSaZxFu5nP",
        "outputId": "53b3b2f6-c3fb-4a09-964a-9e6f133149a5"
      },
      "execution_count": 4,
      "outputs": [
        {
          "output_type": "execute_result",
          "data": {
            "text/html": [
              "<div>\n",
              "<style scoped>\n",
              "    .dataframe tbody tr th:only-of-type {\n",
              "        vertical-align: middle;\n",
              "    }\n",
              "\n",
              "    .dataframe tbody tr th {\n",
              "        vertical-align: top;\n",
              "    }\n",
              "\n",
              "    .dataframe thead th {\n",
              "        text-align: right;\n",
              "    }\n",
              "</style>\n",
              "<table border=\"1\" class=\"dataframe\">\n",
              "  <thead>\n",
              "    <tr style=\"text-align: right;\">\n",
              "      <th></th>\n",
              "      <th>Unnamed: 0</th>\n",
              "      <th>CRIM</th>\n",
              "      <th>ZN</th>\n",
              "      <th>INDUS</th>\n",
              "      <th>CHAS</th>\n",
              "      <th>NOX</th>\n",
              "      <th>RM</th>\n",
              "      <th>AGE</th>\n",
              "      <th>DIS</th>\n",
              "      <th>RAD</th>\n",
              "      <th>TAX</th>\n",
              "      <th>PTRATIO</th>\n",
              "      <th>LSTAT</th>\n",
              "      <th>MEDV</th>\n",
              "    </tr>\n",
              "  </thead>\n",
              "  <tbody>\n",
              "    <tr>\n",
              "      <th>0</th>\n",
              "      <td>0</td>\n",
              "      <td>0.00632</td>\n",
              "      <td>18.0</td>\n",
              "      <td>2.31</td>\n",
              "      <td>0.0</td>\n",
              "      <td>0.538</td>\n",
              "      <td>6.575</td>\n",
              "      <td>65.2</td>\n",
              "      <td>4.0900</td>\n",
              "      <td>1.0</td>\n",
              "      <td>296.0</td>\n",
              "      <td>15.3</td>\n",
              "      <td>4.98</td>\n",
              "      <td>24.0</td>\n",
              "    </tr>\n",
              "    <tr>\n",
              "      <th>1</th>\n",
              "      <td>1</td>\n",
              "      <td>0.02731</td>\n",
              "      <td>0.0</td>\n",
              "      <td>7.07</td>\n",
              "      <td>0.0</td>\n",
              "      <td>0.469</td>\n",
              "      <td>6.421</td>\n",
              "      <td>78.9</td>\n",
              "      <td>4.9671</td>\n",
              "      <td>2.0</td>\n",
              "      <td>242.0</td>\n",
              "      <td>17.8</td>\n",
              "      <td>9.14</td>\n",
              "      <td>21.6</td>\n",
              "    </tr>\n",
              "    <tr>\n",
              "      <th>2</th>\n",
              "      <td>2</td>\n",
              "      <td>0.02729</td>\n",
              "      <td>0.0</td>\n",
              "      <td>7.07</td>\n",
              "      <td>0.0</td>\n",
              "      <td>0.469</td>\n",
              "      <td>7.185</td>\n",
              "      <td>61.1</td>\n",
              "      <td>4.9671</td>\n",
              "      <td>2.0</td>\n",
              "      <td>242.0</td>\n",
              "      <td>17.8</td>\n",
              "      <td>4.03</td>\n",
              "      <td>34.7</td>\n",
              "    </tr>\n",
              "    <tr>\n",
              "      <th>3</th>\n",
              "      <td>3</td>\n",
              "      <td>0.03237</td>\n",
              "      <td>0.0</td>\n",
              "      <td>2.18</td>\n",
              "      <td>0.0</td>\n",
              "      <td>0.458</td>\n",
              "      <td>6.998</td>\n",
              "      <td>45.8</td>\n",
              "      <td>6.0622</td>\n",
              "      <td>3.0</td>\n",
              "      <td>222.0</td>\n",
              "      <td>18.7</td>\n",
              "      <td>2.94</td>\n",
              "      <td>33.4</td>\n",
              "    </tr>\n",
              "    <tr>\n",
              "      <th>4</th>\n",
              "      <td>4</td>\n",
              "      <td>0.06905</td>\n",
              "      <td>0.0</td>\n",
              "      <td>2.18</td>\n",
              "      <td>0.0</td>\n",
              "      <td>0.458</td>\n",
              "      <td>7.147</td>\n",
              "      <td>54.2</td>\n",
              "      <td>6.0622</td>\n",
              "      <td>3.0</td>\n",
              "      <td>222.0</td>\n",
              "      <td>18.7</td>\n",
              "      <td>5.33</td>\n",
              "      <td>36.2</td>\n",
              "    </tr>\n",
              "  </tbody>\n",
              "</table>\n",
              "</div>"
            ],
            "text/plain": [
              "   Unnamed: 0     CRIM    ZN  INDUS  CHAS  ...  RAD    TAX  PTRATIO  LSTAT  MEDV\n",
              "0           0  0.00632  18.0   2.31   0.0  ...  1.0  296.0     15.3   4.98  24.0\n",
              "1           1  0.02731   0.0   7.07   0.0  ...  2.0  242.0     17.8   9.14  21.6\n",
              "2           2  0.02729   0.0   7.07   0.0  ...  2.0  242.0     17.8   4.03  34.7\n",
              "3           3  0.03237   0.0   2.18   0.0  ...  3.0  222.0     18.7   2.94  33.4\n",
              "4           4  0.06905   0.0   2.18   0.0  ...  3.0  222.0     18.7   5.33  36.2\n",
              "\n",
              "[5 rows x 14 columns]"
            ]
          },
          "metadata": {},
          "execution_count": 4
        }
      ]
    },
    {
      "cell_type": "code",
      "source": [
        "# Describe the info of the Dataset\n",
        "boston_df.info()"
      ],
      "metadata": {
        "colab": {
          "base_uri": "https://localhost:8080/"
        },
        "id": "ChN5397Cy0OU",
        "outputId": "38beee4d-72ff-4878-986a-4e70b1d7962d"
      },
      "execution_count": 17,
      "outputs": [
        {
          "output_type": "stream",
          "name": "stdout",
          "text": [
            "<class 'pandas.core.frame.DataFrame'>\n",
            "RangeIndex: 506 entries, 0 to 505\n",
            "Data columns (total 14 columns):\n",
            " #   Column      Non-Null Count  Dtype  \n",
            "---  ------      --------------  -----  \n",
            " 0   Unnamed: 0  506 non-null    int64  \n",
            " 1   CRIM        506 non-null    float64\n",
            " 2   ZN          506 non-null    float64\n",
            " 3   INDUS       506 non-null    float64\n",
            " 4   CHAS        506 non-null    float64\n",
            " 5   NOX         506 non-null    float64\n",
            " 6   RM          506 non-null    float64\n",
            " 7   AGE         506 non-null    float64\n",
            " 8   DIS         506 non-null    float64\n",
            " 9   RAD         506 non-null    float64\n",
            " 10  TAX         506 non-null    float64\n",
            " 11  PTRATIO     506 non-null    float64\n",
            " 12  LSTAT       506 non-null    float64\n",
            " 13  MEDV        506 non-null    float64\n",
            "dtypes: float64(13), int64(1)\n",
            "memory usage: 55.5 KB\n"
          ]
        }
      ]
    },
    {
      "cell_type": "code",
      "source": [
        "boston_df.describe()"
      ],
      "metadata": {
        "colab": {
          "base_uri": "https://localhost:8080/",
          "height": 300
        },
        "id": "4zxQnVolu-nu",
        "outputId": "ef8441e2-abfb-40ad-d9c2-05f416c48cb2"
      },
      "execution_count": 5,
      "outputs": [
        {
          "output_type": "execute_result",
          "data": {
            "text/html": [
              "<div>\n",
              "<style scoped>\n",
              "    .dataframe tbody tr th:only-of-type {\n",
              "        vertical-align: middle;\n",
              "    }\n",
              "\n",
              "    .dataframe tbody tr th {\n",
              "        vertical-align: top;\n",
              "    }\n",
              "\n",
              "    .dataframe thead th {\n",
              "        text-align: right;\n",
              "    }\n",
              "</style>\n",
              "<table border=\"1\" class=\"dataframe\">\n",
              "  <thead>\n",
              "    <tr style=\"text-align: right;\">\n",
              "      <th></th>\n",
              "      <th>Unnamed: 0</th>\n",
              "      <th>CRIM</th>\n",
              "      <th>ZN</th>\n",
              "      <th>INDUS</th>\n",
              "      <th>CHAS</th>\n",
              "      <th>NOX</th>\n",
              "      <th>RM</th>\n",
              "      <th>AGE</th>\n",
              "      <th>DIS</th>\n",
              "      <th>RAD</th>\n",
              "      <th>TAX</th>\n",
              "      <th>PTRATIO</th>\n",
              "      <th>LSTAT</th>\n",
              "      <th>MEDV</th>\n",
              "    </tr>\n",
              "  </thead>\n",
              "  <tbody>\n",
              "    <tr>\n",
              "      <th>count</th>\n",
              "      <td>506.000000</td>\n",
              "      <td>506.000000</td>\n",
              "      <td>506.000000</td>\n",
              "      <td>506.000000</td>\n",
              "      <td>506.000000</td>\n",
              "      <td>506.000000</td>\n",
              "      <td>506.000000</td>\n",
              "      <td>506.000000</td>\n",
              "      <td>506.000000</td>\n",
              "      <td>506.000000</td>\n",
              "      <td>506.000000</td>\n",
              "      <td>506.000000</td>\n",
              "      <td>506.000000</td>\n",
              "      <td>506.000000</td>\n",
              "    </tr>\n",
              "    <tr>\n",
              "      <th>mean</th>\n",
              "      <td>252.500000</td>\n",
              "      <td>3.613524</td>\n",
              "      <td>11.363636</td>\n",
              "      <td>11.136779</td>\n",
              "      <td>0.069170</td>\n",
              "      <td>0.554695</td>\n",
              "      <td>6.284634</td>\n",
              "      <td>68.574901</td>\n",
              "      <td>3.795043</td>\n",
              "      <td>9.549407</td>\n",
              "      <td>408.237154</td>\n",
              "      <td>18.455534</td>\n",
              "      <td>12.653063</td>\n",
              "      <td>22.532806</td>\n",
              "    </tr>\n",
              "    <tr>\n",
              "      <th>std</th>\n",
              "      <td>146.213884</td>\n",
              "      <td>8.601545</td>\n",
              "      <td>23.322453</td>\n",
              "      <td>6.860353</td>\n",
              "      <td>0.253994</td>\n",
              "      <td>0.115878</td>\n",
              "      <td>0.702617</td>\n",
              "      <td>28.148861</td>\n",
              "      <td>2.105710</td>\n",
              "      <td>8.707259</td>\n",
              "      <td>168.537116</td>\n",
              "      <td>2.164946</td>\n",
              "      <td>7.141062</td>\n",
              "      <td>9.197104</td>\n",
              "    </tr>\n",
              "    <tr>\n",
              "      <th>min</th>\n",
              "      <td>0.000000</td>\n",
              "      <td>0.006320</td>\n",
              "      <td>0.000000</td>\n",
              "      <td>0.460000</td>\n",
              "      <td>0.000000</td>\n",
              "      <td>0.385000</td>\n",
              "      <td>3.561000</td>\n",
              "      <td>2.900000</td>\n",
              "      <td>1.129600</td>\n",
              "      <td>1.000000</td>\n",
              "      <td>187.000000</td>\n",
              "      <td>12.600000</td>\n",
              "      <td>1.730000</td>\n",
              "      <td>5.000000</td>\n",
              "    </tr>\n",
              "    <tr>\n",
              "      <th>25%</th>\n",
              "      <td>126.250000</td>\n",
              "      <td>0.082045</td>\n",
              "      <td>0.000000</td>\n",
              "      <td>5.190000</td>\n",
              "      <td>0.000000</td>\n",
              "      <td>0.449000</td>\n",
              "      <td>5.885500</td>\n",
              "      <td>45.025000</td>\n",
              "      <td>2.100175</td>\n",
              "      <td>4.000000</td>\n",
              "      <td>279.000000</td>\n",
              "      <td>17.400000</td>\n",
              "      <td>6.950000</td>\n",
              "      <td>17.025000</td>\n",
              "    </tr>\n",
              "    <tr>\n",
              "      <th>50%</th>\n",
              "      <td>252.500000</td>\n",
              "      <td>0.256510</td>\n",
              "      <td>0.000000</td>\n",
              "      <td>9.690000</td>\n",
              "      <td>0.000000</td>\n",
              "      <td>0.538000</td>\n",
              "      <td>6.208500</td>\n",
              "      <td>77.500000</td>\n",
              "      <td>3.207450</td>\n",
              "      <td>5.000000</td>\n",
              "      <td>330.000000</td>\n",
              "      <td>19.050000</td>\n",
              "      <td>11.360000</td>\n",
              "      <td>21.200000</td>\n",
              "    </tr>\n",
              "    <tr>\n",
              "      <th>75%</th>\n",
              "      <td>378.750000</td>\n",
              "      <td>3.677082</td>\n",
              "      <td>12.500000</td>\n",
              "      <td>18.100000</td>\n",
              "      <td>0.000000</td>\n",
              "      <td>0.624000</td>\n",
              "      <td>6.623500</td>\n",
              "      <td>94.075000</td>\n",
              "      <td>5.188425</td>\n",
              "      <td>24.000000</td>\n",
              "      <td>666.000000</td>\n",
              "      <td>20.200000</td>\n",
              "      <td>16.955000</td>\n",
              "      <td>25.000000</td>\n",
              "    </tr>\n",
              "    <tr>\n",
              "      <th>max</th>\n",
              "      <td>505.000000</td>\n",
              "      <td>88.976200</td>\n",
              "      <td>100.000000</td>\n",
              "      <td>27.740000</td>\n",
              "      <td>1.000000</td>\n",
              "      <td>0.871000</td>\n",
              "      <td>8.780000</td>\n",
              "      <td>100.000000</td>\n",
              "      <td>12.126500</td>\n",
              "      <td>24.000000</td>\n",
              "      <td>711.000000</td>\n",
              "      <td>22.000000</td>\n",
              "      <td>37.970000</td>\n",
              "      <td>50.000000</td>\n",
              "    </tr>\n",
              "  </tbody>\n",
              "</table>\n",
              "</div>"
            ],
            "text/plain": [
              "       Unnamed: 0        CRIM          ZN  ...     PTRATIO       LSTAT        MEDV\n",
              "count  506.000000  506.000000  506.000000  ...  506.000000  506.000000  506.000000\n",
              "mean   252.500000    3.613524   11.363636  ...   18.455534   12.653063   22.532806\n",
              "std    146.213884    8.601545   23.322453  ...    2.164946    7.141062    9.197104\n",
              "min      0.000000    0.006320    0.000000  ...   12.600000    1.730000    5.000000\n",
              "25%    126.250000    0.082045    0.000000  ...   17.400000    6.950000   17.025000\n",
              "50%    252.500000    0.256510    0.000000  ...   19.050000   11.360000   21.200000\n",
              "75%    378.750000    3.677082   12.500000  ...   20.200000   16.955000   25.000000\n",
              "max    505.000000   88.976200  100.000000  ...   22.000000   37.970000   50.000000\n",
              "\n",
              "[8 rows x 14 columns]"
            ]
          },
          "metadata": {},
          "execution_count": 5
        }
      ]
    },
    {
      "cell_type": "markdown",
      "source": [
        "    Task 4: Generate Descriptive Statistics and Visualizations\n",
        "\n",
        "For all visualizations, please include a title in each graph and appropriate labels\n",
        "\n",
        "Generate the following and explain your findings:\n",
        "\n",
        "1. For the \"Median value of owner-occupied homes\" provide a boxplot\n",
        "\n",
        "2. Provide a  histogram for the Charles river variable\n",
        "\n",
        "3. Provide a boxplot for the MEDV variable vs the AGE variable. (Discretize the age variable into three groups of 35 years and younger, between 35 and 70 years and 70 years and older)\n",
        "\n",
        "4. Provide a scatter plot to show the relationship between Nitric oxide concentrations and the proportion of non-retail business acres per town. What can you say about the relationship?\n",
        "\n",
        "5. Create a histogram for the pupil to teacher ratio variable"
      ],
      "metadata": {
        "id": "uhb--XUYxEDm"
      }
    },
    {
      "cell_type": "code",
      "source": [
        "# For the \"Median value of owner-occupied homes\" provide a boxplot\n",
        "boxplot_MEDV = sns.boxplot(y=boston_df[\"MEDV\"])"
      ],
      "metadata": {
        "colab": {
          "base_uri": "https://localhost:8080/",
          "height": 252
        },
        "id": "3YjmZjgQvyab",
        "outputId": "7db977a4-46a2-4d7e-93de-2baa682c4304"
      },
      "execution_count": 19,
      "outputs": [
        {
          "output_type": "display_data",
          "data": {
            "image/png": "[encoded data removed]",
            "text/plain": [
              "<Figure size 432x288 with 1 Axes>"
            ]
          },
          "metadata": {
            "needs_background": "light"
          }
        }
      ]
    },
    {
      "cell_type": "code",
      "source": [
        "# Provide a histogram for the Charles river variable\n",
        "hist_CHAS = sns.histplot(data=boston_df['CHAS'])"
      ],
      "metadata": {
        "colab": {
          "base_uri": "https://localhost:8080/",
          "height": 279
        },
        "id": "PsNYSB5lwevz",
        "outputId": "23cc6cc4-480f-4574-f93a-2b67943fccd0"
      },
      "execution_count": 14,
      "outputs": [
        {
          "output_type": "display_data",
          "data": {
            "image/png": "[encoded data removed]",
            "text/plain": [
              "<Figure size 432x288 with 1 Axes>"
            ]
          },
          "metadata": {
            "needs_background": "light"
          }
        }
      ]
    },
    {
      "cell_type": "code",
      "source": [
        "# Provide a boxplot for the MEDV variable vs the AGE variable. (Discretize the age variable into three groups of 35 years and younger, between 35 and 70 years and 70 years and older)\n",
        "boston_df.loc[boston_df['AGE'] <= 30, 'Age_Group'] = \"35 and younger\"\n",
        "boston_df.loc[(boston_df['AGE'] > 30) & (boston_df['AGE'] < 70), 'Age_Group'] = \"Between 35 and 70\"\n",
        "boston_df.loc[(boston_df['AGE'] >= 70), 'Age_Group'] = \"70 and older\"\n",
        "\n",
        "boxplot = sns.boxplot(x = 'Age_Group', y = 'MEDV', data = boston_df)\n",
        "boxplot.set(xlabel = \"Proportion of owner-occupied units built prior to 1940\"\n",
        "           , ylabel = \"Median value of owner-occupied homes in $1000's\"\n",
        "           , title = \"Boxplot for the MEDV variable vs the AGE variable.\")"
      ],
      "metadata": {
        "colab": {
          "base_uri": "https://localhost:8080/",
          "height": 349
        },
        "id": "BluzvkJux9X2",
        "outputId": "c9950fb8-0e4c-43ef-c713-6dca32ad62af"
      },
      "execution_count": 20,
      "outputs": [
        {
          "output_type": "execute_result",
          "data": {
            "text/plain": [
              "[Text(0, 0.5, \"Median value of owner-occupied homes in $1000's\"),\n",
              " Text(0.5, 0, 'Proportion of owner-occupied units built prior to 1940'),\n",
              " Text(0.5, 1.0, 'Boxplot for the MEDV variable vs the AGE variable.')]"
            ]
          },
          "metadata": {},
          "execution_count": 20
        },
        {
          "output_type": "display_data",
          "data": {
            "image/png": "[encoded data removed]",
            "text/plain": [
              "<Figure size 432x288 with 1 Axes>"
            ]
          },
          "metadata": {
            "needs_background": "light"
          }
        }
      ]
    },
    {
      "cell_type": "code",
      "source": [
        "# Provide a scatter plot to show the relationship between Nitric oxide concentrations and the proportion of non-retail business acres per town. What can you say about the relationship?\n",
        "scat_NOX_INDUS = sns.scatterplot(data=boston_df, x=\"NOX\", y=\"INDUS\")"
      ],
      "metadata": {
        "colab": {
          "base_uri": "https://localhost:8080/",
          "height": 279
        },
        "id": "IEwSSUnCydnU",
        "outputId": "8e99e8c8-c64e-42bb-ae11-a57c3c557b44"
      },
      "execution_count": 21,
      "outputs": [
        {
          "output_type": "display_data",
          "data": {
            "image/png": "[encoded data removed]",
            "text/plain": [
              "<Figure size 432x288 with 1 Axes>"
            ]
          },
          "metadata": {
            "needs_background": "light"
          }
        }
      ]
    },
    {
      "cell_type": "markdown",
      "source": [
        "We can see a positive correlation between NOX and INDUS"
      ],
      "metadata": {
        "id": "9dltV2kT0Bp_"
      }
    },
    {
      "cell_type": "code",
      "source": [
        "# Create a histogram for the pupil to teacher ratio variable\n",
        "hist_PTRATIO = sns.histplot(data=boston_df['PTRATIO'])"
      ],
      "metadata": {
        "colab": {
          "base_uri": "https://localhost:8080/",
          "height": 279
        },
        "id": "CWGQ37jwz7Ll",
        "outputId": "1a14b7a1-4872-47bf-f488-f994aefdbd1d"
      },
      "execution_count": 23,
      "outputs": [
        {
          "output_type": "display_data",
          "data": {
            "image/png": "[encoded data removed]",
            "text/plain": [
              "<Figure size 432x288 with 1 Axes>"
            ]
          },
          "metadata": {
            "needs_background": "light"
          }
        }
      ]
    },
    {
      "cell_type": "markdown",
      "source": [
        "    TASK 5\n",
        "1. Is there a significant difference in median value of houses bounded by the Charles river or not? (T-test for independent samples)\n",
        "\n",
        "2. Is there a difference in Median values of houses (MEDV) for each proportion of owner occupied units built prior to 1940 (AGE)? (ANOVA)\n",
        "\n",
        "3. Can we conclude that there is no relationship between Nitric oxide concentrations and proportion of non-retail business acres per town? (Pearson Correlation)\n",
        "\n",
        "4. What is the impact of an additional weighted distance  to the five Boston employment centres on the median value of owner occupied homes? (Regression analysis)"
      ],
      "metadata": {
        "id": "BGZ0Xso300ji"
      }
    },
    {
      "cell_type": "code",
      "source": [
        "# Is there a significant difference in median value of houses bounded by the Charles river or not? (T-test for independent samples)\n",
        "levene = scipy.stats.levene(boston_df['MEDV'], boston_df['CHAS'], center = 'mean') # Check for significance with Levene\n",
        "scipy.stats.ttest_ind(boston_df['MEDV'], boston_df['CHAS'])"
      ],
      "metadata": {
        "colab": {
          "base_uri": "https://localhost:8080/"
        },
        "id": "r6O3gqi00g48",
        "outputId": "d8a785b1-67bd-4a25-c8d1-f29fb617754e"
      },
      "execution_count": 30,
      "outputs": [
        {
          "output_type": "execute_result",
          "data": {
            "text/plain": [
              "Ttest_indResult(statistic=54.9210289745203, pvalue=1.4651540072350996e-305)"
            ]
          },
          "metadata": {},
          "execution_count": 30
        }
      ]
    },
    {
      "cell_type": "code",
      "source": [
        "# Is there a difference in Median values of houses (MEDV) for each proportion of owner occupied units built prior to 1940 (AGE)? (ANOVA)\n",
        "import scipy.stats as stats\n",
        "fvalue, pvalue = stats.f_oneway(boston_df['MEDV'], boston_df['AGE'])\n",
        "print(fvalue, pvalue)"
      ],
      "metadata": {
        "colab": {
          "base_uri": "https://localhost:8080/"
        },
        "id": "PmM2Js5w2d1q",
        "outputId": "381e4a70-1b4b-4056-b77e-0a6e6da76a9e"
      },
      "execution_count": 32,
      "outputs": [
        {
          "output_type": "stream",
          "name": "stdout",
          "text": [
            "1223.1740271875933 3.20946197250671e-176\n"
          ]
        }
      ]
    },
    {
      "cell_type": "code",
      "source": [
        "#Can we conclude that there is no relationship between Nitric oxide concentrations and proportion of non-retail business acres per town?\n",
        "stats.pearsonr(boston_df['NOX'], boston_df['INDUS'])"
      ],
      "metadata": {
        "colab": {
          "base_uri": "https://localhost:8080/"
        },
        "id": "X_knGPvF3t5o",
        "outputId": "ea4c4db7-6a09-4b60-a407-ed392f785af4"
      },
      "execution_count": 33,
      "outputs": [
        {
          "output_type": "execute_result",
          "data": {
            "text/plain": [
              "(0.7636514469209154, 7.913361061236894e-98)"
            ]
          },
          "metadata": {},
          "execution_count": 33
        }
      ]
    },
    {
      "cell_type": "code",
      "source": [
        "#What is the impact of an additional weighted distance to the five Boston employment centres on the median value of owner occupied homes? (Regression analysis)\n",
        "X = boston_df[['MEDV']]\n",
        "Y = boston_df[['DIS']]\n",
        "model = LinearRegression().fit(X, Y)\n",
        "model.score(X, Y)"
      ],
      "metadata": {
        "colab": {
          "base_uri": "https://localhost:8080/"
        },
        "id": "d-bveknu4PPg",
        "outputId": "bf9016bd-9b66-4e36-9960-3c3a9fc50fe8"
      },
      "execution_count": 46,
      "outputs": [
        {
          "output_type": "execute_result",
          "data": {
            "text/plain": [
              "0.06246437212178235"
            ]
          },
          "metadata": {},
          "execution_count": 46
        }
      ]
    },
    {
      "cell_type": "code",
      "source": [
        ""
      ],
      "metadata": {
        "id": "Cg8YVKCn4ynP"
      },
      "execution_count": null,
      "outputs": []
    }
  ]
}